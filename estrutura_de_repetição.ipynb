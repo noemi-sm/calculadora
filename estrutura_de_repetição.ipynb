{
  "nbformat": 4,
  "nbformat_minor": 0,
  "metadata": {
    "colab": {
      "provenance": [],
      "authorship_tag": "ABX9TyPuthiXM3JxTZFsYQA0Kjr0",
      "include_colab_link": true
    },
    "kernelspec": {
      "name": "python3",
      "display_name": "Python 3"
    },
    "language_info": {
      "name": "python"
    }
  },
  "cells": [
    {
      "cell_type": "markdown",
      "metadata": {
        "id": "view-in-github",
        "colab_type": "text"
      },
      "source": [
        "<a href=\"https://colab.research.google.com/github/noemi-sm/calculadora/blob/main/estrutura_de_repeti%C3%A7%C3%A3o.ipynb\" target=\"_parent\"><img src=\"https://colab.research.google.com/assets/colab-badge.svg\" alt=\"Open In Colab\"/></a>"
      ]
    },
    {
      "cell_type": "code",
      "execution_count": 9,
      "metadata": {
        "colab": {
          "base_uri": "https://localhost:8080/"
        },
        "id": "9B2UbZTtiP1p",
        "outputId": "90e4bd55-b1b0-48bf-9f9d-7bf9cae7bfac"
      },
      "outputs": [
        {
          "output_type": "stream",
          "name": "stdout",
          "text": [
            "Regue a planta 0\n",
            "Regue a planta 1\n",
            "Regue a planta 2\n",
            "Regue a planta 3\n",
            "Regue a planta 4\n",
            "Regue a planta 5\n"
          ]
        }
      ],
      "source": [
        "for i in range(6):\n",
        "  planta_atual = str(i)\n",
        "  print('Regue a planta ' + planta_atual)"
      ]
    },
    {
      "cell_type": "code",
      "source": [
        "for i in range(6):\n",
        "  print('Regue a planta de númeoro: ', i)\n",
        ""
      ],
      "metadata": {
        "colab": {
          "base_uri": "https://localhost:8080/"
        },
        "id": "48Ry2yJPmbzD",
        "outputId": "bc0081cb-ada9-4917-9b42-5c5039d98640"
      },
      "execution_count": 8,
      "outputs": [
        {
          "output_type": "stream",
          "name": "stdout",
          "text": [
            "Regue a planta de númeoro:  0\n",
            "Regue a planta de númeoro:  1\n",
            "Regue a planta de númeoro:  2\n",
            "Regue a planta de númeoro:  3\n",
            "Regue a planta de númeoro:  4\n",
            "Regue a planta de númeoro:  5\n"
          ]
        }
      ]
    },
    {
      "cell_type": "code",
      "source": [
        "i = 0\n",
        "while (i <6):\n",
        "  print('Regue a planta de número: ', i)\n",
        "  i = i + 1"
      ],
      "metadata": {
        "colab": {
          "base_uri": "https://localhost:8080/"
        },
        "id": "bGiMgeK8oV1E",
        "outputId": "50da9146-945e-4420-d479-a16ae918ff25"
      },
      "execution_count": 15,
      "outputs": [
        {
          "output_type": "stream",
          "name": "stdout",
          "text": [
            "Regue a planta de número:  0\n",
            "Regue a planta de número:  1\n",
            "Regue a planta de número:  2\n",
            "Regue a planta de número:  3\n",
            "Regue a planta de número:  4\n",
            "Regue a planta de número:  5\n"
          ]
        }
      ]
    },
    {
      "cell_type": "code",
      "source": [
        "for i in range (0,6,2):\n",
        "  print('Regue os tomates', i)\n",
        "  print('\\tignorar batata', i+1)"
      ],
      "metadata": {
        "colab": {
          "base_uri": "https://localhost:8080/"
        },
        "id": "EtUU_YfctMjX",
        "outputId": "ee767c94-ba8e-46fd-c99d-19a354cf9a1c"
      },
      "execution_count": 25,
      "outputs": [
        {
          "output_type": "stream",
          "name": "stdout",
          "text": [
            "Regue os tomates 0\n",
            "\tignorar batata 1\n",
            "Regue os tomates 2\n",
            "\tignorar batata 3\n",
            "Regue os tomates 4\n",
            "\tignorar batata 5\n"
          ]
        }
      ]
    },
    {
      "cell_type": "code",
      "source": [
        "i = 0\n",
        "while (i < 6):\n",
        "  print('Regue os tomates', i)\n",
        "  i = i+2"
      ],
      "metadata": {
        "id": "kUEFQLKxw9lg"
      },
      "execution_count": null,
      "outputs": []
    },
    {
      "cell_type": "code",
      "source": [
        "regar = 0\n",
        "for i in range(6):\n",
        "  if regar % 2 == 0:\n",
        "    print (f'Regue o tomate')\n",
        "  else:\n",
        "    print(f'Batata, não regar.')\n",
        "  regar += 1"
      ],
      "metadata": {
        "id": "Gl4mBxF9zT5Y"
      },
      "execution_count": null,
      "outputs": []
    }
  ]
}