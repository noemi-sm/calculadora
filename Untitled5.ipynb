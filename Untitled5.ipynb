{
  "nbformat": 4,
  "nbformat_minor": 0,
  "metadata": {
    "colab": {
      "provenance": [],
      "authorship_tag": "ABX9TyMNSAebDBfkSZYjVE8Zmq3k",
      "include_colab_link": true
    },
    "kernelspec": {
      "name": "python3",
      "display_name": "Python 3"
    },
    "language_info": {
      "name": "python"
    }
  },
  "cells": [
    {
      "cell_type": "markdown",
      "metadata": {
        "id": "view-in-github",
        "colab_type": "text"
      },
      "source": [
        "<a href=\"https://colab.research.google.com/github/noemi-sm/calculadora/blob/main/Untitled5.ipynb\" target=\"_parent\"><img src=\"https://colab.research.google.com/assets/colab-badge.svg\" alt=\"Open In Colab\"/></a>"
      ]
    },
    {
      "cell_type": "code",
      "execution_count": null,
      "metadata": {
        "id": "eAs-aCrecY8l"
      },
      "outputs": [],
      "source": [
        "numero1 = input('Digite um número: ')\n",
        "numero1 = int(numero1)\n",
        "\n",
        "numero2 = input('Digite um segundo número: ')\n",
        "numero2 = int(numero2)\n",
        "\n",
        "if (numero1 == numero2):\n",
        "  print ('O número %d é iguel a %d.  '% (numero1, numero2))\n",
        "\n",
        "if (numero1 != numero2):\n",
        "  print ('O número %d é diferente do %d. '% (numero1, numero2))\n",
        "\n",
        "if (numero1 < numero2):\n",
        "  print ('O número %d é menor que %d. '% (numero1, numero2))\n",
        "\n",
        "if (numero1 > numero2):\n",
        "  print ('O número %d é maior que %d. '% (numero1, numero2))\n",
        "\n",
        "if (numero1 >= numero2):\n",
        "  print ('O número %d é maior ou igual que %d. '% (numero1, numero2))\n",
        "\n",
        "if (numero1 <= numero2):\n",
        "  print ('O número %d é menor ou igual que %d. '% (numero1, numero2))\n",
        ""
      ]
    },
    {
      "cell_type": "code",
      "source": [
        "def mostrar_numero():\n",
        "  print('Escreva um número menor ou igual a 100')\n",
        "  num = int (input())\n",
        "  if (num > 100):\n",
        "    print('Número precisa ser menor ou igual a 100.')\n",
        "  else:\n",
        "    print('Boa! vc escolheu o número: ', str(num))\n",
        "mostrar_numero()\n"
      ],
      "metadata": {
        "id": "IcL3Mp2wgvPP"
      },
      "execution_count": null,
      "outputs": []
    },
    {
      "cell_type": "code",
      "source": [
        "from pickle import TRUE\n",
        "def mostrar_numero():\n",
        "  numero_valido = False\n",
        "  print('Número precisa ser menor ou igual a 100.')\n",
        "\n",
        "  while(numero_valido == False):\n",
        "   try:\n",
        "    num = int (input())\n",
        "    if (num > 100):\n",
        "      print('Número precisa ser menor ou igual a 100.')\n",
        "    else:\n",
        "      print('Boa! vc escolheu o número: ', str(num))\n",
        "      numero_valido = True\n",
        "   except:\n",
        "    print('O valor inserido deve ser um número inteiro.')\n",
        "mostrar_numero()"
      ],
      "metadata": {
        "id": "sCULJ1CSy5m6"
      },
      "execution_count": null,
      "outputs": []
    }
  ]
}